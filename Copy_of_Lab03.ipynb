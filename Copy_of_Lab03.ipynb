{
  "nbformat": 4,
  "nbformat_minor": 0,
  "metadata": {
    "colab": {
      "provenance": []
    },
    "kernelspec": {
      "name": "python3",
      "display_name": "Python 3"
    },
    "language_info": {
      "name": "python"
    }
  },
  "cells": [
    {
      "cell_type": "markdown",
      "source": [
        "# Ramya Raga N 1RVU22BSC080\n",
        "# Nandika Raj Varma 1RVU22BSC060\n",
        "\n"
      ],
      "metadata": {
        "id": "08wPvZvFaO1d"
      }
    },
    {
      "cell_type": "code",
      "execution_count": null,
      "metadata": {
        "colab": {
          "base_uri": "https://localhost:8080/"
        },
        "id": "sbRMazhGrppg",
        "outputId": "5b8b0ca7-9b7e-40a6-e507-84faa02b1981"
      },
      "outputs": [
        {
          "output_type": "stream",
          "name": "stdout",
          "text": [
            "Linear Constrained Optimization Result:\n",
            "Optimal value: 6.0\n",
            "Optimal solution: x = 1.0000000000000002, y = 1.4999999999999998\n"
          ]
        },
        {
          "output_type": "stream",
          "name": "stderr",
          "text": [
            "<ipython-input-4-fb3c3aa828f5>:18: DeprecationWarning: `method='simplex'` is deprecated and will be removed in SciPy 1.11.0. Please use one of the HiGHS solvers (e.g. `method='highs'`) in new code.\n",
            "  result = linprog(c, A_ub=A, b_ub=b, bounds=[x_bounds, y_bounds], method='simplex')\n"
          ]
        }
      ],
      "source": [
        "from scipy.optimize import linprog\n",
        "\n",
        "c = [-3, -2]\n",
        "\n",
        "\n",
        "A = [[1, 2],\n",
        "     [3, 2]]\n",
        "\n",
        "b = [4, 6]\n",
        "\n",
        "x_bounds = (0, None)\n",
        "y_bounds = (0, None)\n",
        "\n",
        "result = linprog(c, A_ub=A, b_ub=b, bounds=[x_bounds, y_bounds], method='simplex')\n",
        "\n",
        "print(\"Linear Constrained Optimization Result:\")\n",
        "print(f\"Optimal value: {-result.fun}\")\n",
        "print(f\"Optimal solution: x = {result.x[0]}, y = {result.x[1]}\")\n"
      ]
    },
    {
      "cell_type": "code",
      "source": [
        "from scipy.optimize import linprog\n",
        "\n",
        "c = [2, 3]\n",
        "\n",
        "A_ub = [\n",
        "    [0.5, 0.25],\n",
        "    [-1, -3]\n",
        "]\n",
        "\n",
        "b_ub = [4, -20]\n",
        "\n",
        "A_eq = [\n",
        "    [1, 1]\n",
        "]\n",
        "\n",
        "\n",
        "b_eq = [10]\n",
        "\n",
        "x_bounds = (0, None)\n",
        "y_bounds = (0, None)\n",
        "\n",
        "result = linprog(c, A_ub=A_ub, b_ub=b_ub, A_eq=A_eq, b_eq=b_eq, bounds=[x_bounds, y_bounds], method='simplex')\n",
        "\n",
        "print(\"Linear Constrained Optimization Result:\")\n",
        "if result.success:\n",
        "    print(f\"Optimal value: {result.fun}\")\n",
        "    print(f\"Optimal solution: x = {result.x[0]}, y = {result.x[1]}\")\n",
        "else:\n",
        "    print(\"No solution found.\")\n"
      ],
      "metadata": {
        "colab": {
          "base_uri": "https://localhost:8080/"
        },
        "id": "41XkeY3ZyV17",
        "outputId": "f04abac4-a49f-4b0e-8b19-9d960c99e8e9"
      },
      "execution_count": null,
      "outputs": [
        {
          "output_type": "stream",
          "name": "stdout",
          "text": [
            "Linear Constrained Optimization Result:\n",
            "Optimal value: 25.0\n",
            "Optimal solution: x = 4.999999999999999, y = 5.000000000000001\n"
          ]
        },
        {
          "output_type": "stream",
          "name": "stderr",
          "text": [
            "<ipython-input-6-7d77abeebe2a>:28: DeprecationWarning: `method='simplex'` is deprecated and will be removed in SciPy 1.11.0. Please use one of the HiGHS solvers (e.g. `method='highs'`) in new code.\n",
            "  result = linprog(c, A_ub=A_ub, b_ub=b_ub, A_eq=A_eq, b_eq=b_eq, bounds=[x_bounds, y_bounds], method='simplex')\n"
          ]
        }
      ]
    },
    {
      "cell_type": "code",
      "source": [
        "import numpy as np\n",
        "import pandas as pd\n",
        "\n",
        "data = {\n",
        "    'x': [0.5, 1, 1, -2],\n",
        "    'y': [0.25, 3, 1, -3],\n",
        "    's1': [1, 0, 0, 0],\n",
        "    'e1': [0, -1, 0, 0],\n",
        "    'a1': [0, 1, 0, -1e6],\n",
        "    'a2': [0, 0, 1, -1e6],\n",
        "    'z': [0, 0, 0, 1],\n",
        "    'b': [4, 20, 10, 0]\n",
        "}\n",
        "\n",
        "rows = ['R1', 'R2', 'R3', 'R4']\n",
        "columns = ['x', 'y', 's1', 'e1', 'a1', 'a2', 'z', 'b']\n",
        "\n",
        "tableau = pd.DataFrame(data, index=rows, columns=columns)\n",
        "\n",
        "print(\"Initial Tableau:\")\n",
        "print(tableau)\n",
        "\n",
        "M = 1e6\n",
        "tableau.loc['R4'] = tableau.loc['R4'] + M * tableau.loc['R2'] + M * tableau.loc['R3']\n",
        "\n",
        "print(\"\\nFirst Tableau Transformation:\")\n",
        "print(tableau)\n"
      ],
      "metadata": {
        "colab": {
          "base_uri": "https://localhost:8080/"
        },
        "id": "iIkcrxlb2Coy",
        "outputId": "35341d70-7f6c-4c3f-df28-8074e88f8edc"
      },
      "execution_count": null,
      "outputs": [
        {
          "output_type": "stream",
          "name": "stdout",
          "text": [
            "Initial Tableau:\n",
            "      x     y  s1  e1         a1         a2  z   b\n",
            "R1  0.5  0.25   1   0        0.0        0.0  0   4\n",
            "R2  1.0  3.00   0  -1        1.0        0.0  0  20\n",
            "R3  1.0  1.00   0   0        0.0        1.0  0  10\n",
            "R4 -2.0 -3.00   0   0 -1000000.0 -1000000.0  1   0\n",
            "\n",
            "First Tableau Transformation:\n",
            "            x           y  s1       e1   a1   a2  z         b\n",
            "R1        0.5        0.25   1        0  0.0  0.0  0         4\n",
            "R2        1.0        3.00   0       -1  1.0  0.0  0        20\n",
            "R3        1.0        1.00   0        0  0.0  1.0  0        10\n",
            "R4  1999998.0  3999997.00   0 -1000000  0.0  0.0  1  30000000\n"
          ]
        }
      ]
    },
    {
      "cell_type": "code",
      "source": [
        "pivot_column = tableau.loc['R4'][:-1].idxmax()\n",
        "\n",
        "ratios = tableau['b'][:3] / tableau[pivot_column][:3]\n",
        "\n",
        "ratios = ratios[tableau[pivot_column][:3] > 0]\n",
        "\n",
        "\n",
        "pivot_row = ratios.idxmin()\n",
        "\n",
        "print(f\"\\nPivot Column: {pivot_column}\")\n",
        "print(f\"Pivot Row: {pivot_row}\")\n"
      ],
      "metadata": {
        "colab": {
          "base_uri": "https://localhost:8080/"
        },
        "id": "pu0DF_HGVowB",
        "outputId": "42e27ee5-5d64-4099-c572-28c1f3c2e99f"
      },
      "execution_count": null,
      "outputs": [
        {
          "output_type": "stream",
          "name": "stdout",
          "text": [
            "\n",
            "Pivot Column: y\n",
            "Pivot Row: R2\n"
          ]
        }
      ]
    },
    {
      "cell_type": "code",
      "source": [
        "tableau.loc['R2'] = tableau.loc['R2'] / tableau.loc['R2', 'y']\n",
        "print(\"\\nUpdated Tableau after R2 transformation:\")\n",
        "print(tableau)"
      ],
      "metadata": {
        "colab": {
          "base_uri": "https://localhost:8080/"
        },
        "id": "klMM-nkGXf-X",
        "outputId": "d92c0fb9-4b7c-45f3-e5fb-89f2ca3e8ec8"
      },
      "execution_count": null,
      "outputs": [
        {
          "output_type": "stream",
          "name": "stdout",
          "text": [
            "\n",
            "Updated Tableau after R2 transformation:\n",
            "                x    y  s1             e1            a1   a2  z             b\n",
            "R1       0.416667  0.0   1       0.083333 -8.333333e-02  0.0  0  2.333333e+00\n",
            "R2       0.333333  1.0   0      -0.333333  3.333333e-01  0.0  0  6.666667e+00\n",
            "R3       0.666667  0.0   0       0.333333 -3.333333e-01  1.0  0  3.333333e+00\n",
            "R4  666665.666667  0.0   0  333332.333333 -1.333332e+06  0.0  1  3.333353e+06\n"
          ]
        }
      ]
    },
    {
      "cell_type": "code",
      "source": [
        "# R1 -> R1 - 0.25 * R2\n",
        "tableau.loc['R1'] = tableau.loc['R1'] - tableau.loc['R1', 'y'] * tableau.loc['R2']\n",
        "\n",
        "# R3 -> R3 - 1 * R2\n",
        "tableau.loc['R3'] = tableau.loc['R3'] - tableau.loc['R3', 'y'] * tableau.loc['R2']\n",
        "\n",
        "# R4 -> R4 - 3999997 * R2\n",
        "tableau.loc['R4'] = tableau.loc['R4'] - tableau.loc['R4', 'y'] * tableau.loc['R2']\n",
        "\n",
        "print(\"\\nUpdated Tableau after Pivoting:\")\n",
        "print(tableau)\n"
      ],
      "metadata": {
        "colab": {
          "base_uri": "https://localhost:8080/"
        },
        "id": "E-SLtPZzWA7L",
        "outputId": "3531535e-3ccb-4eef-c6ad-0674dda50590"
      },
      "execution_count": null,
      "outputs": [
        {
          "output_type": "stream",
          "name": "stdout",
          "text": [
            "\n",
            "Updated Tableau after Pivoting:\n",
            "                x    y  s1             e1            a1   a2  z             b\n",
            "R1       0.416667  0.0   1       0.083333 -8.333333e-02  0.0  0  2.333333e+00\n",
            "R2       0.333333  1.0   0      -0.333333  3.333333e-01  0.0  0  6.666667e+00\n",
            "R3       0.666667  0.0   0       0.333333 -3.333333e-01  1.0  0  3.333333e+00\n",
            "R4  666665.666667  0.0   0  333332.333333 -1.333332e+06  0.0  1  3.333353e+06\n"
          ]
        }
      ]
    },
    {
      "cell_type": "code",
      "source": [
        "\n",
        "tableau.loc['R3'] = tableau.loc['R3'] / tableau.loc['R3', 'x']\n",
        "\n",
        "\n",
        "# R1 -> R1 - 0.416667 * R3\n",
        "tableau.loc['R1'] = tableau.loc['R1'] - tableau.loc['R1', 'x'] * tableau.loc['R3']\n",
        "\n",
        "# R2 -> R2 - 0.333333 * R3\n",
        "tableau.loc['R2'] = tableau.loc['R2'] - tableau.loc['R2', 'x'] * tableau.loc['R3']\n",
        "\n",
        "# R4 -> R4 - 666665.666667 * R3\n",
        "tableau.loc['R4'] = tableau.loc['R4'] - tableau.loc['R4', 'x'] * tableau.loc['R3']\n",
        "\n",
        "print(\"\\nUpdated Tableau after Pivoting:\")\n",
        "print(tableau)\n"
      ],
      "metadata": {
        "colab": {
          "base_uri": "https://localhost:8080/"
        },
        "id": "hbHOkiGwXVP1",
        "outputId": "5f9743cc-5f30-4ce7-da2d-f733116ff33f"
      },
      "execution_count": null,
      "outputs": [
        {
          "output_type": "stream",
          "name": "stdout",
          "text": [
            "\n",
            "Updated Tableau after Pivoting:\n",
            "      x    y  s1     e1          a1          a2  z      b\n",
            "R1  0.0  0.0   1 -0.125       0.125      -0.625  0   0.25\n",
            "R2  0.0  1.0   0 -0.500       0.500      -0.500  0   5.00\n",
            "R3  1.0  0.0   0  0.500      -0.500       1.500  0   5.00\n",
            "R4  0.0  0.0   0 -0.500 -999999.500 -999998.500  1  25.00\n"
          ]
        }
      ]
    },
    {
      "cell_type": "code",
      "source": [
        "\n",
        "x_value = tableau.loc['R3', 'b']\n",
        "y_value = tableau.loc['R2', 'b']\n",
        "s1_value = tableau.loc['R1', 'b']\n",
        "min_value = tableau.loc['R4', 'b']\n",
        "\n",
        "print(f\"Optimal Solution:\")\n",
        "print(f\"x = {x_value}\")\n",
        "print(f\"y = {y_value}\")\n",
        "print(f\"s1 = {s1_value}\")\n",
        "print(f\"Minimum value (objective function) = {min_value}\")\n"
      ],
      "metadata": {
        "colab": {
          "base_uri": "https://localhost:8080/"
        },
        "id": "q_Ug3KJLZRLc",
        "outputId": "d496a03c-b578-465b-eca6-ba2bb4d2922e"
      },
      "execution_count": null,
      "outputs": [
        {
          "output_type": "stream",
          "name": "stdout",
          "text": [
            "Optimal Solution:\n",
            "x = 4.999999999999999\n",
            "y = 5.000000000000001\n",
            "s1 = 0.25\n",
            "Minimum value (objective function) = 24.999999999068677\n"
          ]
        }
      ]
    },
    {
      "cell_type": "markdown",
      "source": [],
      "metadata": {
        "id": "xYAhjm5JaKzA"
      }
    }
  ]
}